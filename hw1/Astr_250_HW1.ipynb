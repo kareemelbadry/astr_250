{
 "cells": [
  {
   "cell_type": "code",
   "execution_count": 2,
   "metadata": {
    "collapsed": false
   },
   "outputs": [],
   "source": [
    "from __future__ import division, print_function\n",
    "import numpy as np\n",
    "import matplotlib.pyplot as plt\n",
    "%matplotlib inline"
   ]
  },
  {
   "cell_type": "code",
   "execution_count": null,
   "metadata": {
    "collapsed": true
   },
   "outputs": [],
   "source": []
  },
  {
   "cell_type": "code",
   "execution_count": 17,
   "metadata": {
    "collapsed": true
   },
   "outputs": [],
   "source": [
    "# Problem 2\n",
    "\n",
    "def P(x, mu = 5, sigma = 1):\n",
    "    '''\n",
    "    The probability distribution from which we're sampling \n",
    "    '''\n",
    "    return 1/np.sqrt(2*np.pi*sigma**2) * np.exp(-(mu - x)**2 / (2*sigma**2))\n",
    "\n",
    "def gauss_prop(x0, sigma = 1):\n",
    "    '''\n",
    "    the \"proposal distribution\". We'll use a Gaussian. \n",
    "    suggests a new value x1 to try, given a current value x0:\n",
    "    '''\n",
    "    x1 = x0 + sigma * np.random.randn()\n",
    "    return x1\n",
    "\n",
    "def get_alpha(x0, x1):\n",
    "    '''\n",
    "    given a current position x0 and a proposed position x1, calculate alpha\n",
    "    '''\n",
    "    return P(x1)/P(x0)\n",
    "\n",
    "def should_we_move(x0, x1):\n",
    "    '''\n",
    "    the \"accept the candidate with probability alpha\" step. Returns True if \n",
    "    you should accept x1; False otherwise. \n",
    "    '''\n",
    "    alpha = get_alpha(x0 = x0, x1 = x1)\n",
    "    \n",
    "    if alpha >= 1:\n",
    "        return True\n",
    "    else:\n",
    "        # generate a random number between 0 and 1\n",
    "        rand_num = np.random.uniform(size = 1)\n",
    "        \n",
    "        if alpha >= rand_num:\n",
    "            return True\n",
    "        else:\n",
    "            return False\n",
    "        \n",
    "def get_n_metropolis_hasting_samples(x0, n = 10000, step = 1):\n",
    "    '''\n",
    "    kind of slow, because it's pure python and isn't efficiently \n",
    "    using numpy or anything, but good enough for our purposes\n",
    "    '''\n",
    "    samples, num_samples = [x0], 1\n",
    "    \n",
    "    while num_samples < n:\n",
    "        x_cur = samples[num_samples - 1]\n",
    "        x_prop = gauss_prop(x0 = x_cur, sigma = step)\n",
    "        \n",
    "        if should_we_move(x0 = x_cur, x1 = x_prop):\n",
    "            samples.append(x_prop)\n",
    "        else:\n",
    "            samples.append(x_cur)\n",
    "        num_samples += 1\n",
    "    \n",
    "    return samples\n"
   ]
  },
  {
   "cell_type": "code",
   "execution_count": 31,
   "metadata": {
    "collapsed": false
   },
   "outputs": [],
   "source": [
    "# test it\n",
    "samples = get_n_metropolis_hasting_samples(x0 = 4, n = 1e6, step = 1)"
   ]
  },
  {
   "cell_type": "code",
   "execution_count": 35,
   "metadata": {
    "collapsed": false
   },
   "outputs": [
    {
     "data": {
      "text/plain": [
       "<matplotlib.legend.Legend at 0x107a01850>"
      ]
     },
     "execution_count": 35,
     "metadata": {},
     "output_type": "execute_result"
    },
    {
     "data": {
      "image/png": "[encoded data removed]",
      "text/plain": [
       "<matplotlib.figure.Figure at 0x1080e0d90>"
      ]
     },
     "metadata": {},
     "output_type": "display_data"
    }
   ],
   "source": [
    "f = plt.figure(figsize = (6, 4))\n",
    "ax = f.add_subplot(111)\n",
    "ax.grid(False)\n",
    "\n",
    "# histogram of the points\n",
    "_ = ax.hist(samples, bins = np.linspace(0, 10, 100), alpha = 0.5, normed = True,\n",
    "           label = 'samples')\n",
    "\n",
    "# compare to P(x)\n",
    "xx = np.linspace(0, 10, 1000)\n",
    "ax.plot(xx, P(xx), 'r', label = r'$P(x)$')\n",
    "ax.legend(frameon = False)\n",
    "ax.ylabel(r'$')"
   ]
  },
  {
   "cell_type": "code",
   "execution_count": null,
   "metadata": {
    "collapsed": true
   },
   "outputs": [],
   "source": []
  }
 ],
 "metadata": {
  "kernelspec": {
   "display_name": "Python 2",
   "language": "python",
   "name": "python2"
  },
  "language_info": {
   "codemirror_mode": {
    "name": "ipython",
    "version": 2
   },
   "file_extension": ".py",
   "mimetype": "text/x-python",
   "name": "python",
   "nbconvert_exporter": "python",
   "pygments_lexer": "ipython2",
   "version": "2.7.5"
  }
 },
 "nbformat": 4,
 "nbformat_minor": 0
}
